{
 "cells": [
  {
   "cell_type": "markdown",
   "metadata": {},
   "source": [
    "# **Numpy Tutorial**\n",
    "    There are just basic things in this tutorial. For refrences one can always go to official Documentation of NumPy!"
   ]
  },
  {
   "cell_type": "code",
   "execution_count": null,
   "metadata": {},
   "outputs": [],
   "source": [
    "import numpy as np"
   ]
  },
  {
   "cell_type": "markdown",
   "metadata": {},
   "source": [
    "## Arrays"
   ]
  },
  {
   "cell_type": "code",
   "execution_count": null,
   "metadata": {},
   "outputs": [],
   "source": [
    "arr=np.array([13,6,17]) # Initialisation of 1D array\n",
    "arr1=np.array([1,2,3],np.int8) # Initialisation with specific size of elements"
   ]
  },
  {
   "cell_type": "code",
   "execution_count": null,
   "metadata": {},
   "outputs": [],
   "source": [
    "print(arr)\n",
    "print(arr1)\n",
    "print(arr[1]) # Access of elements same as usual 0 based indexng"
   ]
  },
  {
   "cell_type": "code",
   "execution_count": null,
   "metadata": {},
   "outputs": [],
   "source": [
    "arr2=np.array([[1,2,3],[5,8,0],[8,0,1]]) #Initialise 2D array\n",
    "print(arr2[1,1]) # 2D Element read Access \n",
    "arr2[0,2]=17 # write access\n",
    "print(arr2[0,2])\n",
    "\n",
    "#same we can define any dimension arrays"
   ]
  },
  {
   "cell_type": "code",
   "execution_count": null,
   "metadata": {},
   "outputs": [],
   "source": [
    "print(arr.dtype) # data type check\n",
    "print(arr.shape) # shows shape\n",
    "print(arr.size) # show total number of elements\n"
   ]
  },
  {
   "cell_type": "markdown",
   "metadata": {},
   "source": [
    "    1.Conversion From other python structures to np array"
   ]
  },
  {
   "cell_type": "code",
   "execution_count": null,
   "metadata": {},
   "outputs": [],
   "source": [
    "lst=[[1,2],[3,4],[5,6]]\n",
    "A=np.array(lst)\n",
    "print(A)\n",
    "print(A.dtype)\n",
    "print(A.shape)\n",
    "print(A.size)"
   ]
  },
  {
   "cell_type": "markdown",
   "metadata": {},
   "source": [
    "    2.Interensic NumPy Arrays"
   ]
  },
  {
   "cell_type": "code",
   "execution_count": null,
   "metadata": {},
   "outputs": [],
   "source": [
    "zeroArr1 = np.zeros(4) # initialising 1D array with all 0 entries\n",
    "zeroArr2 = np.zeros((3,4)) # initialising 2D array with all 0 entries\n",
    "\n",
    "print(zeroArr1)\n",
    "print(zeroArr2)\n"
   ]
  },
  {
   "cell_type": "code",
   "execution_count": null,
   "metadata": {},
   "outputs": [],
   "source": [
    "rng = np.arange(4,13) # create np array with entries from (4) to (13-1)\n",
    "rng1 = np.arange(13) # \"Default Lower limit is 0\"\n",
    "rng2 = np.linspace(3,30,4) # 4 elements with equally linearnly spaced elements here (space=(30-3)/3 = 9)\n",
    "\n",
    "print(rng)\n",
    "print(rng1)\n",
    "print(rng2)"
   ]
  },
  {
   "cell_type": "code",
   "execution_count": null,
   "metadata": {},
   "outputs": [],
   "source": [
    "emp = np.empty((3,7)) # will create an np array of 3*7 with random elements\n",
    "emp_like = np.empty_like(rng) # will create an np array same as rng in above block\n",
    "\n",
    "print(emp)\n",
    "print(emp_like) "
   ]
  },
  {
   "cell_type": "code",
   "execution_count": null,
   "metadata": {},
   "outputs": [],
   "source": [
    "ide = np.identity(5) # creates 5*5 identity matrix\n",
    "print(ide)"
   ]
  },
  {
   "cell_type": "code",
   "execution_count": null,
   "metadata": {},
   "outputs": [],
   "source": [
    "# if it is possible to reshape an array to other dimension (can be done as follows)\n",
    "temp_arr = np.arange(40)\n",
    "print(temp_arr)\n",
    "\n",
    "temp_arr=temp_arr.reshape(8,5)\n",
    "print(temp_arr)\n",
    "\n",
    "temp_arr = temp_arr.ravel() # to convert back into 1D\n",
    "print(temp_arr)"
   ]
  },
  {
   "cell_type": "markdown",
   "metadata": {},
   "source": [
    "## Matrix Operations"
   ]
  },
  {
   "cell_type": "code",
   "execution_count": null,
   "metadata": {},
   "outputs": [],
   "source": [
    "mat = [[2,1,3],[4,6,5],[9,8,7]]\n",
    "ar = np.array(mat)\n",
    "\n",
    "sum1 = ar.sum(axis=0) # Sum along axix 0       here Column wise sum \n",
    "sum2 = ar.sum(axis=1) # Sum along axis 1       here Row wise sum\n",
    "\n",
    "\n",
    "print(sum1)\n",
    "print(sum2)"
   ]
  },
  {
   "cell_type": "code",
   "execution_count": null,
   "metadata": {},
   "outputs": [],
   "source": [
    "print(ar)\n",
    "ar.T # Transpose"
   ]
  },
  {
   "cell_type": "code",
   "execution_count": null,
   "metadata": {},
   "outputs": [],
   "source": [
    "np.sqrt(ar) # Calculates element wise sqrt"
   ]
  },
  {
   "cell_type": "code",
   "execution_count": null,
   "metadata": {},
   "outputs": [],
   "source": [
    "ar.sum() # sum of all elements of arraymax\n",
    "max"
   ]
  },
  {
   "cell_type": "code",
   "execution_count": null,
   "metadata": {},
   "outputs": [],
   "source": [
    "ar.max() # max elements of array"
   ]
  },
  {
   "cell_type": "code",
   "execution_count": null,
   "metadata": {},
   "outputs": [],
   "source": [
    "ar.min() # min elements of array"
   ]
  },
  {
   "cell_type": "code",
   "execution_count": null,
   "metadata": {},
   "outputs": [],
   "source": [
    "ar+ar # Matrix Addition\n",
    "ar*ar # Matrix Multipliaction\n",
    "ar-ar # Matrix subtruation"
   ]
  },
  {
   "cell_type": "code",
   "execution_count": null,
   "metadata": {},
   "outputs": [],
   "source": [
    "# 1D iterator\n",
    "for i in ar.flat:\n",
    "    print(i)"
   ]
  },
  {
   "cell_type": "code",
   "execution_count": null,
   "metadata": {},
   "outputs": [],
   "source": [
    "dim = ar.ndim # number of dimensions\n",
    "storage = ar.nbytes # number of bytes\n",
    "max_ele_idx = ar.argmax() # idx of max element after raveling the array\n",
    "min_ele_idx = ar.argmin() # idx of min element after raveling the array\n",
    "\n",
    "idx_sort = ar.argsort() # sorts last dimension wise\n",
    "\n",
    "print(dim)\n",
    "print(storage)\n",
    "print(max_ele_idx)\n",
    "print(min_ele_idx)\n",
    "print(idx_sort)\n"
   ]
  },
  {
   "cell_type": "code",
   "execution_count": null,
   "metadata": {},
   "outputs": [],
   "source": [
    "ar.argmax(axis=0) # along each axis=0 will print idx at which the max element is present"
   ]
  },
  {
   "cell_type": "code",
   "execution_count": null,
   "metadata": {},
   "outputs": [],
   "source": [
    "ar.argmax(axis=1) # along each axis=1 will print idx at which the max element is present"
   ]
  },
  {
   "cell_type": "code",
   "execution_count": null,
   "metadata": {},
   "outputs": [],
   "source": [
    "np.count_nonzero(ar)"
   ]
  },
  {
   "cell_type": "code",
   "execution_count": null,
   "metadata": {},
   "outputs": [],
   "source": [
    "a = np.array([[1,3,6],[6,4,16]])\n",
    "np.where(a>6) "
   ]
  },
  {
   "cell_type": "markdown",
   "metadata": {},
   "source": [
    "#### NumPy is Space efficient"
   ]
  },
  {
   "cell_type": "code",
   "execution_count": null,
   "metadata": {},
   "outputs": [],
   "source": [
    "import sys\n",
    "\n",
    "py_arr = [0,2,56,91]\n",
    "np_arr = np.array(py_arr)\n",
    "\n",
    "print(sys.getsizeof(1)*len(py_arr))\n",
    "print(np_arr.itemsize * np_arr.size)"
   ]
  }
 ],
 "metadata": {
  "kernelspec": {
   "display_name": "JupyterVenv",
   "language": "python",
   "name": "python3"
  },
  "language_info": {
   "codemirror_mode": {
    "name": "ipython",
    "version": 3
   },
   "file_extension": ".py",
   "mimetype": "text/x-python",
   "name": "python",
   "nbconvert_exporter": "python",
   "pygments_lexer": "ipython3",
   "version": "3.12.3"
  }
 },
 "nbformat": 4,
 "nbformat_minor": 2
}
